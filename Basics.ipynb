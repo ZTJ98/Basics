{
  "cells": [
    {
      "metadata": {
        "trusted": true,
        "scrolled": false
      },
      "cell_type": "code",
      "source": "# All Odds: Writing a function that displays odd numbers from 5 to 35\n\ndef Odd_numbers():\n    numbers = [5, 6, 7, 8, 9, 10, 11, 12, 13, 14, 15, 16, 17, 18, 19, 20, 21, 22, 23, 24, 25, 26, 27, 28, 29, 30, 31, 32, 33, 34, 35]\n    for x in range(len(numbers)):\n        if x % 2 == 0: \n            print (numbers[x], end=\" \")\n\nOdd_numbers()",
      "execution_count": null,
      "outputs": []
    },
    {
      "metadata": {
        "trusted": true
      },
      "cell_type": "code",
      "source": "#Loops: Converting celsius to Fahrenheit within a range\n\nfor celsius in range(6): #The range here produces the numbers 0 through 5\n    \n    CeliustoFahrenheit = (9/5)*celsius+32 #Celius to Fahrenheit formula \n    \n    print (int(CeliustoFahrenheit), end=\", \") ",
      "execution_count": null,
      "outputs": []
    },
    {
      "metadata": {
        "trusted": true
      },
      "cell_type": "code",
      "source": "#Convert a word to hex and binary\n\nword = input(\"Enter Hello: \") \nprint(\"Word is:\", \"Hello\") #input the word Hello\n\nhexidemical = hex(ord(\"H\")), hex(ord(\"e\")), hex(ord(\"l\")), hex(ord(\"l\")), hex(ord(\"o\")) #This displays the conversion to hexadecimal\nfor x in hexidemical:\n    print (x, end=\" \")\n\nprint() #this prints a blank space between outputs to clear up the look\n\nbinary = [bin(ord(\"H\")), bin(ord(\"e\")), bin(ord(\"l\")), bin(ord(\"l\")), bin(ord(\"o\"))] #This displays the conversion to binary\nfor x in binary:\n    print (x, end=\" \")",
      "execution_count": null,
      "outputs": []
    },
    {
      "metadata": {
        "trusted": true
      },
      "cell_type": "code",
      "source": "# Strings Part 1: Writing a function to display a true or false output depending on inputs\ndef Strings():\n    msg1 = input(\"Enter an input:\") # enter an input in either text format or number format\n    print()\n    msg2 = input(\"Enter a second input:\") # enter a second input (Note: if second input is same as first, you will receive a false output)\n    if msg1 != msg2: # If message 1 and is different it will print a true value\n        return True; \n    else:\n        return False;\n\nStrings()",
      "execution_count": null,
      "outputs": []
    },
    {
      "metadata": {
        "trusted": true
      },
      "cell_type": "code",
      "source": "# Strings part 2: Creating a random number game where users are given hot or cold depending on how close they are to the number\nimport pylab\nimport random\n\nnumber = random.randint(1,25) # This generates a number between 1 and 25\nguess = int(input(\"Guess a number between 1 and 25: \"))\n\nwhile guess != number:\n    if abs(guess - number) <= 5:\n        print(\"You are getting Warmer!\") # If the player is closer to the number this message will display\n        guess = int(input(\"Guess a number between 1 and 25: \"))\n    else:\n        print(\"You are getting colder!\") # If the player is further away from the number this message will display\n        guess = int(input(\"Guess a number between 1 and 25: \"))\n    \nprint(\"You found the number!\") # If the correct number is given by the user, it will display this message",
      "execution_count": null,
      "outputs": []
    },
    {
      "metadata": {
        "trusted": true
      },
      "cell_type": "code",
      "source": "# Volume: Calculating the volume of a sphere with radius\ndef Volume():\n    pi = 22/7 \n    radian = float(input(\"Radius of Sphere: \")) # In order to find the volume we first must enter the radius\n    volume = (4/3)*(pi*radian**3) # After the radius is entered will works its magic and calculate the correct value\n    print(\"The volume of the sphere is: \", volume)\nVolume()",
      "execution_count": null,
      "outputs": []
    },
    {
      "metadata": {
        "trusted": true
      },
      "cell_type": "code",
      "source": "# Stoned: Converting your weight to stones\ndef stone():\n    print(\"Pounds to Stones converter:\")\n    weight = float(input(\"Convert your weight to kilograms: \")) # To find our weight in stones you have to convert your weight to kilograms\n    kilogram = (weight/2.20462*1) # This equation will convert your input weight to kilograms\n    print(\"Your weight in kilograms is: \", kilogram)\n    Mstones = float(input(\"Enter your weight in kilograms to find weight in stones: \")) \n    stones = (kilogram*2.2/14) # This equation calculates your Stones using the provided equations and input kilograms\n    print(\"Your weight in stones is:\", stones)\nstone()",
      "execution_count": null,
      "outputs": []
    },
    {
      "metadata": {
        "trusted": true
      },
      "cell_type": "code",
      "source": "# Ohms Law Part 1: Calculating current by inputting resistance and voltage amounts\ndef in_series():\n    print(\"Circuit in series current calculator:\")\n    print()\n    r1 = float(input(\"Enter the resistence of r1: \")) \n    print(\"The resistence of r1 is\", r1) # Input of r1 is displayed \n    r2 = float(input(\"Enter the resistence of r2: \"))\n    print(\"The resistence of r1 is\", r2) # Input of r2 is displayed \n    v = float(input(\"Enter the voltage: \")) \n    print(\"The voltage is\", v) # Input of voltage is displayed here\n    current = v/(r1+r2) # Inputs are fed through this equation to ouput the current of a circuit in series\n    print(\"The current of the circuit in series is i =\", current) # current is displayed \nin_series()\n\nprint()\n\ndef in_parallel():\n    print(\"Circuit in parallel current calculator:\")\n    print()\n    r1 = float(input(\"Enter the resistence of r1: \"))\n    print(\"The resistence of r1 is\", r1) # Input of r1 is displayed \n    r2 = float(input(\"Enter the resistence of r2: \"))\n    print(\"The resistence of r1 is\", r2) # Input of r2 is displayed \n    v = float(input(\"Enter the voltage: \")) \n    print(\"The voltage is\", v) # Input of voltage is displayed here\n    resistance1 = (1/r1 + 1/r2) # In order to get this equation to output correctly I broke it up into parts\n    resistance2 = (1/resistance1)\n    current = (v/resistance2) # Inputs and outputs of previous equations are fed through this equation to ouput the current of a circuit in parallel\n    print(\"The current of the circuit in parallel is i =\", current) # current is displayed \nin_parallel()",
      "execution_count": null,
      "outputs": []
    },
    {
      "metadata": {
        "trusted": true,
        "scrolled": true
      },
      "cell_type": "code",
      "source": "#Ohms Law Part 2: Calculating Ohms law and the power transfered through a circuit element\nfrom ipywidgets import interact\n\n@interact(Current = (0,50), Resistance = (0,50)) # For the sliders I decided to go with numbers between 0 and 50\ndef ohms_law(Current,Resistance):\n    voltage = (Current*Resistance) # Inputs from slider are fed through this equation to display the voltage in real time\n    print(\"Voltage = \", voltage)\n    power = (voltage*Current) # Inputs from slider are fed through this equation to display the power in real time\n    print(\"Power = \", power)",
      "execution_count": null,
      "outputs": []
    },
    {
      "metadata": {
        "trusted": true
      },
      "cell_type": "code",
      "source": "# Odd/Even: Turning an LED on or off depending on if the ouput is odd or even\nfrom ipywidgets import interact\n\n@interact\ndef led(x = (1,10)): # Slider limit is set to between 1 and 10\n    odd = x%2 # If deterimines of the input is odd or even\n    msg = \"OFF\" if odd else \"ON\" # If the input is even the LED will be on, otherwise it will be off\n    print(\"LED\", msg, \"x-:\", x) ",
      "execution_count": null,
      "outputs": []
    },
    {
      "metadata": {
        "trusted": true
      },
      "cell_type": "code",
      "source": "# Change it: Converting a cent amount to change\ndef change_it(change):\n    cents = [(25, 'quarter'), (10, 'dime'), (5, 'nickel'), (1, 'penny')] \n    answer = {} \n    for change_value, change_name in cents:\n        if change >= change_value:\n            number_cents, change = divmod(change, change_value) \n            answer[change_name] = number_cents\n    return answer \n\nchange_converter = int(input(\"Enter amount in cents :\")) # Rather than just display the amount asked I decided to add a bit to the program to be able to convert a custom amount\nchange_amount = (change_converter) # this converts the input amount to change\nprint(change_it(change_amount))",
      "execution_count": null,
      "outputs": []
    },
    {
      "metadata": {
        "trusted": true
      },
      "cell_type": "code",
      "source": "",
      "execution_count": null,
      "outputs": []
    }
  ],
  "metadata": {
    "kernelspec": {
      "name": "python36",
      "display_name": "Python 3.6",
      "language": "python"
    },
    "language_info": {
      "mimetype": "text/x-python",
      "nbconvert_exporter": "python",
      "name": "python",
      "pygments_lexer": "ipython3",
      "version": "3.6.6",
      "file_extension": ".py",
      "codemirror_mode": {
        "version": 3,
        "name": "ipython"
      }
    }
  },
  "nbformat": 4,
  "nbformat_minor": 2
}